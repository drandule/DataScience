{
 "cells": [
  {
   "cell_type": "markdown",
   "id": "62426e47-2a5c-449c-b2fc-c5a89b6218f1",
   "metadata": {},
   "source": [
    "1\n",
    "Обучите простую рекуррентную нейронную сеть (без GRU/LSTM, без внимания) решать задачу дешифровки шифра Цезаря:\n",
    "Написать алгоритм шифра Цезаря для генерации выборки (сдвиг на N каждой буквы). Например если N=2, то буква A переходит в букву C. Можно поиграться с языком на выбор (немецкий, русский и т.д.)\n",
    "Создать архитектуру рекуррентной нейронной сети.\n",
    "Обучить ее (вход - зашифрованная фраза, выход - дешифрованная фраза).\n",
    "Проверить качество модели.\t\n",
    "2 балла за правильно выполненное задание.\n"
   ]
  },
  {
   "cell_type": "code",
   "execution_count": 7,
   "id": "7f6eb1a3-8dcf-44e5-9743-984ab92f23b5",
   "metadata": {},
   "outputs": [],
   "source": [
    "#преднастройка\n",
    "import torch\n",
    "import torch.nn as nn\n",
    "import torch.optim as optim\n",
    "import random\n",
    "import string"
   ]
  },
  {
   "cell_type": "code",
   "execution_count": 40,
   "id": "c90e5522-07dc-45cf-aece-662f20dcf397",
   "metadata": {},
   "outputs": [],
   "source": [
    "# параметры\n",
    "DEVICE = torch.device(\"cuda\" if torch.cuda.is_available() else \"cpu\")\n",
    "ALPHABET = \"АБВГДЕЁЖЗИЙКЛМНОПРСТУФХЦЧШЩЪЫЬЭЮЯабвгдеёжзийклмнопрстуфхцчшщъыьэюя0123456789 \"+string.punctuation #\"абвгдеёжзийклмнопрстуфхцчшщъыьэюя\"\n",
    "CHAR_TO_INDEX = {ch: i for i, ch in enumerate(ALPHABET)}\n",
    "INDEX_TO_CHAR = {i: ch for i, ch in enumerate(ALPHABET)}\n",
    "SEQ_LENGTH = 100  # длина последовательности\n",
    "HIDDEN_SIZE = 128\n",
    "EPOCHS = 2\n",
    "BATCH_SIZE = 64\n",
    "SHIFT = 7  # cдвиг шифра Цезаря"
   ]
  },
  {
   "cell_type": "code",
   "execution_count": 42,
   "id": "0224528c-6c3b-4848-8bd4-c2837868ebd4",
   "metadata": {},
   "outputs": [],
   "source": [
    "# вспомогательные функции\n",
    "# функция шифрования текста\n",
    "def caesar_encrypt(text, shift):\n",
    "    return \"\".join(ALPHABET[(CHAR_TO_INDEX[ch] + shift) % len(ALPHABET)] for ch in text)\n",
    "\n",
    "\n",
    "# функция расшифровки\n",
    "def caesar_decrypt(text, shift):\n",
    "    return \"\".join(ALPHABET[(CHAR_TO_INDEX[ch] - shift) % len(ALPHABET)] for ch in text)\n",
    "\n",
    "\n",
    "# генерация обучающих данных\n",
    "def generate_data(num_samples):\n",
    "    data = []\n",
    "    for _ in range(num_samples):\n",
    "        x = \"\".join(random.choices(ALPHABET, k=SEQ_LENGTH))\n",
    "        y = caesar_decrypt(x, SHIFT)\n",
    "        data.append((x, y))\n",
    "    return data\n",
    "\n",
    "\n",
    "# преобразование строки в тензор\n",
    "def text_to_tensor(text):\n",
    "    return torch.tensor([CHAR_TO_INDEX[ch] for ch in text], dtype=torch.long, device=DEVICE)\n",
    "\n",
    "\n",
    "# преобразование тензора в строку\n",
    "def tensor_to_text(tensor):\n",
    "    return \"\".join(INDEX_TO_CHAR[idx] for idx in tensor.tolist())\n"
   ]
  },
  {
   "cell_type": "code",
   "execution_count": 44,
   "id": "671bfed9-ee15-4def-a42a-1432139aaaef",
   "metadata": {},
   "outputs": [],
   "source": [
    "# определение RNN-модели\n",
    "class CaesarRNN(nn.Module):\n",
    "    def __init__(self, input_size, hidden_size, output_size):\n",
    "        super(CaesarRNN, self).__init__()\n",
    "        self.embedding = nn.Embedding(input_size, hidden_size)\n",
    "        self.rnn = nn.RNN(hidden_size, hidden_size, batch_first=True)\n",
    "        self.fc = nn.Linear(hidden_size, output_size)\n",
    "\n",
    "    def forward(self, x):\n",
    "        embedded = self.embedding(x)\n",
    "        rnn_out, _ = self.rnn(embedded)\n",
    "        output = self.fc(rnn_out)\n",
    "        return output\n"
   ]
  },
  {
   "cell_type": "code",
   "execution_count": 46,
   "id": "5a636924-40e3-469c-951b-744674a9bcad",
   "metadata": {},
   "outputs": [],
   "source": [
    "# cоздание модели\n",
    "model = CaesarRNN(len(ALPHABET), HIDDEN_SIZE, len(ALPHABET)).to(DEVICE)\n",
    "criterion = nn.CrossEntropyLoss()\n",
    "optimizer = optim.Adam(model.parameters(), lr=0.001)\n",
    "\n",
    "# подготовка данных\n",
    "train_data = generate_data(1000)\n",
    "x_train = torch.stack([text_to_tensor(x) for x, _ in train_data])\n",
    "y_train = torch.stack([text_to_tensor(y) for _, y in train_data])\n"
   ]
  },
  {
   "cell_type": "code",
   "execution_count": 48,
   "id": "3c49f6f8-31bb-4c3c-b136-ac37f8079a75",
   "metadata": {},
   "outputs": [],
   "source": [
    "# обучения\n",
    "def train():\n",
    "    for epoch in range(EPOCHS):\n",
    "        total_loss = 0\n",
    "        for i in range(0, len(x_train), BATCH_SIZE):\n",
    "            x_batch = x_train[i:i + BATCH_SIZE]\n",
    "            y_batch = y_train[i:i + BATCH_SIZE]\n",
    "\n",
    "            optimizer.zero_grad()\n",
    "            output = model(x_batch)\n",
    "            loss = criterion(output.view(-1, len(ALPHABET)), y_batch.view(-1))\n",
    "            loss.backward()\n",
    "            optimizer.step()\n",
    "            total_loss += loss.item()\n",
    "\n",
    "        if (epoch + 1) % 50 == 0:\n",
    "            print(f\"Epoch {epoch + 1}/{EPOCHS}, Loss: {total_loss / len(x_train):.8f}\")\n",
    "\n",
    "\n",
    "train()\n",
    "\n",
    "# сохранение модели\n",
    "torch.save(model.state_dict(), \"caesar_model.pth\")"
   ]
  },
  {
   "cell_type": "code",
   "execution_count": 49,
   "id": "313785d1-14dc-4f75-ac89-542ae60ea00c",
   "metadata": {},
   "outputs": [
    {
     "name": "stdout",
     "output_type": "stream",
     "text": [
      "Исходный текст: Привет Мир! & наша группа #2025 года выпуска\n",
      "Зашифрованный текст: Цчпилщ'Упч('-'фжяж'йчъццж'*979\"'йхкж'и2цъшсж\n",
      "Расшифрованный текст: Привет Мир! & наша группа #2025 года выпуска\n",
      "Точность расшифровки на 10000 тестовых примеров: 100.00%\n"
     ]
    }
   ],
   "source": [
    "# функция расшифровки\n",
    "def decrypt_text(encrypted_text):\n",
    "    model.eval()\n",
    "    x_test = text_to_tensor(encrypted_text).unsqueeze(0)\n",
    "    with torch.no_grad():\n",
    "        output = model(x_test)\n",
    "        predicted_indices = output.argmax(dim=2).squeeze()\n",
    "    return tensor_to_text(predicted_indices)\n",
    "\n",
    "\n",
    "# тестирование модели\n",
    "test_text = \"Привет Мир! & наша группа #2025 года выпуска\"\n",
    "encrypted_text = caesar_encrypt(test_text, SHIFT)\n",
    "decrypted_text = decrypt_text(encrypted_text)\n",
    "\n",
    "print(f\"Исходный текст: {test_text}\")\n",
    "print(f\"Зашифрованный текст: {encrypted_text}\")\n",
    "print(f\"Расшифрованный текст: {decrypted_text}\")\n",
    "\n",
    "\n",
    "# тестирование модели на сгенерированных данных\n",
    "num_test_samples = 10000\n",
    "test_data = generate_data(num_test_samples)\n",
    "correct_count = 0\n",
    "\n",
    "for enc_text, true_dec_text in test_data:\n",
    "    pred_dec_text = decrypt_text(enc_text)\n",
    "    if pred_dec_text == true_dec_text:\n",
    "        correct_count += 1\n",
    "\n",
    "accuracy = (correct_count / num_test_samples) * 100\n",
    "print(f\"Точность расшифровки на {num_test_samples} тестовых примеров: {accuracy:.2f}%\")"
   ]
  },
  {
   "cell_type": "code",
   "execution_count": 62,
   "id": "b5c51436-f6cf-4342-ae51-d1a39fe8b80e",
   "metadata": {},
   "outputs": [
    {
     "name": "stdout",
     "output_type": "stream",
     "text": [
      "{'decrypted_text': 'Привет Мир! & наша группа #2025 года выпуска'}\n"
     ]
    }
   ],
   "source": [
    "#залитая моделька с эндпоинтом\n",
    "import requests\n",
    "\n",
    "url = \"http://45.152.115.10:5000/decrypt_caesar\"\n",
    "data = {\"encrypted_text\": \"Цчпилщ'Упч('-'фжяж'йчъццж'*979\\\"'йхкж'и2цъшсж\"}\n",
    "response = requests.post(url, json=data)\n",
    "\n",
    "print(response.json())"
   ]
  },
  {
   "cell_type": "markdown",
   "id": "da8fa41f-ae21-4111-9e87-3eb1e48fd4ab",
   "metadata": {},
   "source": [
    "2. \t\n",
    "Сгенерировать последовательности, которые состоят из цифр (от 0 до 9) и задаются следующим образом:\n",
    "x - последовательность цифр\n",
    "y1 = x1 \n",
    "yi = xi + x1\n",
    "Если yi >= 10 то yi = yi - 10\n",
    "Научить модель рекуррентной нейронной сети предсказывать yi по xi Использовать: RNN, LSTM, GRU\n",
    "6 баллов за правильно выполненное задание.\n"
   ]
  },
  {
   "cell_type": "code",
   "execution_count": 64,
   "id": "ed83f8ed-3add-41db-a490-984dec483759",
   "metadata": {},
   "outputs": [],
   "source": [
    "#преднастройка\n",
    "import torch\n",
    "import torch.nn as nn\n",
    "import torch.optim as optim\n",
    "import random"
   ]
  },
  {
   "cell_type": "code",
   "execution_count": 66,
   "id": "91958c7a-a7c9-47a3-b13d-198abdcfbfef",
   "metadata": {},
   "outputs": [],
   "source": [
    "# параметры\n",
    "DEVICE = torch.device(\"cuda\" if torch.cuda.is_available() else \"cpu\")\n",
    "DIGITS = list(range(10))  # Цифры от 0 до 9\n",
    "SEQ_LENGTH = 10  # Длина входной последовательности\n",
    "HIDDEN_SIZE = 128\n",
    "EPOCHS = 500\n",
    "BATCH_SIZE = 64"
   ]
  },
  {
   "cell_type": "code",
   "execution_count": 107,
   "id": "66b941cb-f95d-4f3f-b77d-9b3496dfedc7",
   "metadata": {},
   "outputs": [],
   "source": [
    "#разное\n",
    "def compute_y(x):\n",
    "    y = []\n",
    "    x1 = x[0]  \n",
    "    for i, xi in enumerate(x):\n",
    "        if i == 0:\n",
    "            yi = x1  \n",
    "        else:\n",
    "            yi = xi + x1\n",
    "            if yi >= 10:\n",
    "                yi -= 10  \n",
    "        y.append(yi)\n",
    "    return y\n",
    "\n",
    "\n",
    "# генерация выборки\n",
    "def generate_data(num_samples):\n",
    "    data = []\n",
    "    for _ in range(num_samples):\n",
    "        x = [random.choice(DIGITS) for _ in range(SEQ_LENGTH)]\n",
    "        y = compute_y(x)\n",
    "        data.append((x, y))\n",
    "    return data\n",
    "\n",
    "\n",
    "# в тензор\n",
    "def sequence_to_tensor(seq):\n",
    "    return torch.tensor(seq, dtype=torch.long, device=DEVICE)\n",
    "\n",
    "\n",
    "def tensor_to_sequence(tensor):\n",
    "    return tensor.tolist()"
   ]
  },
  {
   "cell_type": "code",
   "execution_count": 109,
   "id": "a71f79e7-78a0-4ec2-bbeb-eff72a05fc78",
   "metadata": {},
   "outputs": [],
   "source": [
    "# архитектура RNN LSTM GRU\n",
    "class SequenceRNN(nn.Module):\n",
    "    def __init__(self, input_size, hidden_size, output_size, rnn_type=\"RNN\"):\n",
    "        super(SequenceRNN, self).__init__()\n",
    "        self.hidden_size = hidden_size\n",
    "        self.embedding = nn.Embedding(input_size, hidden_size)\n",
    "\n",
    "        if rnn_type == \"LSTM\":\n",
    "            self.rnn = nn.LSTM(hidden_size, hidden_size, batch_first=True)\n",
    "        elif rnn_type == \"GRU\":\n",
    "            self.rnn = nn.GRU(hidden_size, hidden_size, batch_first=True)\n",
    "        else:\n",
    "            self.rnn = nn.RNN(hidden_size, hidden_size, batch_first=True)\n",
    "\n",
    "        #s\n",
    "        self.dropout = nn.Dropout(0.2)\n",
    "        self.fc = nn.Linear(hidden_size, output_size)\n",
    "\n",
    "    def forward(self, x):\n",
    "        embedded = self.embedding(x)\n",
    "        rnn_out, _ = self.rnn(embedded)\n",
    "        #s\n",
    "        rnn_out = self.dropout(rnn_out)\n",
    "        output = self.fc(rnn_out)\n",
    "        return output\n"
   ]
  },
  {
   "cell_type": "code",
   "execution_count": 111,
   "id": "4bcccd32-7a23-4d17-84b7-c13c8ea33463",
   "metadata": {},
   "outputs": [],
   "source": [
    "# создание модели RNN\n",
    "rnn_type = \"RNN\"  # RNN\", \"LSTM\" или \"GRU\"\n",
    "model = SequenceRNN(len(DIGITS), HIDDEN_SIZE, len(DIGITS), rnn_type).to(DEVICE)\n",
    "criterion = nn.CrossEntropyLoss()\n",
    "optimizer = optim.Adam(model.parameters(), lr=0.0001) #0.01\n",
    "\n",
    "# подготовка данных\n",
    "train_data = generate_data(30000)\n",
    "x_train = torch.stack([sequence_to_tensor(x) for x, _ in train_data])\n",
    "y_train = torch.stack([sequence_to_tensor(y) for _, y in train_data])\n"
   ]
  },
  {
   "cell_type": "code",
   "execution_count": 112,
   "id": "ab59f6cc-2a75-4c97-aeec-0a36d49c65d4",
   "metadata": {},
   "outputs": [
    {
     "name": "stdout",
     "output_type": "stream",
     "text": [
      "Epoch 50/500, Loss: 0.00003064\n",
      "Epoch 100/500, Loss: 0.00000757\n",
      "Epoch 150/500, Loss: 0.00000412\n",
      "Epoch 200/500, Loss: 0.00000323\n",
      "Epoch 250/500, Loss: 0.00000247\n",
      "Epoch 300/500, Loss: 0.00000180\n",
      "Epoch 350/500, Loss: 0.00000134\n",
      "Epoch 400/500, Loss: 0.00000129\n",
      "Epoch 450/500, Loss: 0.00000152\n",
      "Epoch 500/500, Loss: 0.00000098\n"
     ]
    }
   ],
   "source": [
    "# тренировка RNN\n",
    "\n",
    "def train():\n",
    "    for epoch in range(EPOCHS):\n",
    "        total_loss = 0\n",
    "        for i in range(0, len(x_train), BATCH_SIZE):\n",
    "            x_batch = x_train[i:i + BATCH_SIZE]\n",
    "            y_batch = y_train[i:i + BATCH_SIZE]\n",
    "\n",
    "            optimizer.zero_grad()\n",
    "            output = model(x_batch)\n",
    "            loss = criterion(output.view(-1, len(DIGITS)), y_batch.view(-1))\n",
    "            loss.backward()\n",
    "            optimizer.step()\n",
    "            total_loss += loss.item()\n",
    "\n",
    "        if (epoch + 1) % 50 == 0:\n",
    "            print(f\"Epoch {epoch + 1}/{EPOCHS}, Loss: {total_loss / len(x_train):.8f}\")\n",
    "\n",
    "\n",
    "train()\n",
    "# сохранение модели\n",
    "torch.save(model.state_dict(), \"gener_rnn.pth\")"
   ]
  },
  {
   "cell_type": "code",
   "execution_count": 114,
   "id": "96ba521e-a6a8-43cb-9547-080a8d2a2b34",
   "metadata": {},
   "outputs": [
    {
     "name": "stdout",
     "output_type": "stream",
     "text": [
      "test_sequence:[1, 4, 2, 6, 5, 8, 2, 7, 6, 2, 3, 5, 9, 5, 5, 9] y_expected:[1, 5, 3, 7, 6, 9, 3, 8, 7, 3, 4, 6, 0, 6, 6, 0] predicted_indices:[1, 5, 3, 7, 6, 9, 3, 8, 7, 3, 4, 6, 0, 6, 6, 0]\n",
      "Процент неверных предсказаний RNN: 0.00%\n"
     ]
    }
   ],
   "source": [
    "# тестирование RNN\n",
    "model.eval()\n",
    "\n",
    "incorrect_predictions = 0\n",
    "total_predictions = 0\n",
    "\n",
    "for i in range(10000):\n",
    "    test_sequence = [random.choice(DIGITS) for _ in range(random.randint(SEQ_LENGTH, SEQ_LENGTH * 2))]\n",
    "    y_expected = compute_y(test_sequence)\n",
    "    x_test = sequence_to_tensor(test_sequence).unsqueeze(0)\n",
    "    output = model(x_test)\n",
    "    predicted_indices = output.argmax(dim=2).squeeze().tolist()\n",
    "    if y_expected != predicted_indices:\n",
    "        incorrect_predictions += 1\n",
    "    total_predictions += 1\n",
    "    if i==0:\n",
    "        print(f\"test_sequence:{test_sequence} y_expected:{y_expected} predicted_indices:{predicted_indices}\")\n",
    "\n",
    "# Вычисление процента ошибок\n",
    "error_percentage = (incorrect_predictions / total_predictions) * 100\n",
    "print(f\"Процент неверных предсказаний RNN: {error_percentage:.2f}%\")"
   ]
  },
  {
   "cell_type": "code",
   "execution_count": 115,
   "id": "ab3779da-f020-47de-a551-96c91b90fb5a",
   "metadata": {},
   "outputs": [],
   "source": [
    "# создание модели LSTM\n",
    "rnn_type = \"LSTM\"  # RNN\", \"LSTM\" или \"GRU\"\n",
    "model = SequenceRNN(len(DIGITS), HIDDEN_SIZE, len(DIGITS), rnn_type).to(DEVICE)\n",
    "criterion = nn.CrossEntropyLoss()\n",
    "optimizer = optim.Adam(model.parameters(), lr=0.0001) #0.01\n",
    "\n",
    "# подготовка данных\n",
    "train_data = generate_data(30000)\n",
    "x_train = torch.stack([sequence_to_tensor(x) for x, _ in train_data])\n",
    "y_train = torch.stack([sequence_to_tensor(y) for _, y in train_data])"
   ]
  },
  {
   "cell_type": "code",
   "execution_count": 116,
   "id": "a790aa41-b74a-4151-9f44-fe1855f17441",
   "metadata": {},
   "outputs": [
    {
     "name": "stdout",
     "output_type": "stream",
     "text": [
      "Epoch 50/500, Loss: 0.00000002\n",
      "Epoch 100/500, Loss: 0.00000000\n",
      "Epoch 150/500, Loss: 0.00000000\n",
      "Epoch 200/500, Loss: 0.00000000\n",
      "Epoch 250/500, Loss: 0.00000000\n",
      "Epoch 300/500, Loss: 0.00000000\n",
      "Epoch 350/500, Loss: 0.00000000\n",
      "Epoch 400/500, Loss: 0.00000000\n",
      "Epoch 450/500, Loss: 0.00000000\n",
      "Epoch 500/500, Loss: 0.00000000\n"
     ]
    }
   ],
   "source": [
    "# тренировка LSTM\n",
    "\n",
    "def train():\n",
    "    for epoch in range(EPOCHS):\n",
    "        total_loss = 0\n",
    "        for i in range(0, len(x_train), BATCH_SIZE):\n",
    "            x_batch = x_train[i:i + BATCH_SIZE]\n",
    "            y_batch = y_train[i:i + BATCH_SIZE]\n",
    "\n",
    "            optimizer.zero_grad()\n",
    "            output = model(x_batch)\n",
    "            loss = criterion(output.view(-1, len(DIGITS)), y_batch.view(-1))\n",
    "            loss.backward()\n",
    "            optimizer.step()\n",
    "            total_loss += loss.item()\n",
    "\n",
    "        if (epoch + 1) % 50 == 0:\n",
    "            print(f\"Epoch {epoch + 1}/{EPOCHS}, Loss: {total_loss / len(x_train):.8f}\")\n",
    "\n",
    "\n",
    "train()\n",
    "# сохранение модели\n",
    "torch.save(model.state_dict(), \"gener_lstm.pth\")"
   ]
  },
  {
   "cell_type": "code",
   "execution_count": 117,
   "id": "772ddbfa-201a-416f-9faf-be02e9763225",
   "metadata": {},
   "outputs": [
    {
     "name": "stdout",
     "output_type": "stream",
     "text": [
      "test_sequence:[8, 3, 5, 8, 3, 7, 9, 5, 1, 7, 7] y_expected:[8, 1, 3, 6, 1, 5, 7, 3, 9, 5, 5] predicted_indices:[8, 1, 3, 6, 1, 5, 7, 3, 9, 5, 5]\n",
      "Процент неверных предсказаний LSTM: 0.00%\n"
     ]
    }
   ],
   "source": [
    "# тестирование RNN\n",
    "model.eval()\n",
    "\n",
    "incorrect_predictions = 0\n",
    "total_predictions = 0\n",
    "\n",
    "for i in range(10000):\n",
    "    test_sequence = [random.choice(DIGITS) for _ in range(random.randint(SEQ_LENGTH, SEQ_LENGTH * 2))]\n",
    "    y_expected = compute_y(test_sequence)\n",
    "    x_test = sequence_to_tensor(test_sequence).unsqueeze(0)\n",
    "    output = model(x_test)\n",
    "    predicted_indices = output.argmax(dim=2).squeeze().tolist()\n",
    "    if y_expected != predicted_indices:\n",
    "        incorrect_predictions += 1\n",
    "    total_predictions += 1\n",
    "    if i==0:\n",
    "        print(f\"test_sequence:{test_sequence} y_expected:{y_expected} predicted_indices:{predicted_indices}\")\n",
    "\n",
    "# Вычисление процента ошибок\n",
    "error_percentage = (incorrect_predictions / total_predictions) * 100\n",
    "print(f\"Процент неверных предсказаний LSTM: {error_percentage:.2f}%\")"
   ]
  },
  {
   "cell_type": "code",
   "execution_count": 118,
   "id": "082e5edd-893e-447d-b63b-1c8f5319daf3",
   "metadata": {},
   "outputs": [],
   "source": [
    "# создание модели GRU\n",
    "rnn_type = \"GRU\"  # RNN\", \"LSTM\" или \"GRU\"\n",
    "model = SequenceRNN(len(DIGITS), HIDDEN_SIZE, len(DIGITS), rnn_type).to(DEVICE)\n",
    "criterion = nn.CrossEntropyLoss()\n",
    "optimizer = optim.Adam(model.parameters(), lr=0.0001) #0.01\n",
    "\n",
    "# подготовка данных\n",
    "train_data = generate_data(30000)\n",
    "x_train = torch.stack([sequence_to_tensor(x) for x, _ in train_data])\n",
    "y_train = torch.stack([sequence_to_tensor(y) for _, y in train_data])"
   ]
  },
  {
   "cell_type": "code",
   "execution_count": 119,
   "id": "b30db3a4-d672-4241-8b53-36e8d3eba4b1",
   "metadata": {},
   "outputs": [
    {
     "name": "stdout",
     "output_type": "stream",
     "text": [
      "Epoch 50/500, Loss: 0.00000037\n",
      "Epoch 100/500, Loss: 0.00000004\n",
      "Epoch 150/500, Loss: 0.00000001\n",
      "Epoch 200/500, Loss: 0.00000000\n",
      "Epoch 250/500, Loss: 0.00000001\n",
      "Epoch 300/500, Loss: 0.00000000\n",
      "Epoch 350/500, Loss: 0.00000000\n",
      "Epoch 400/500, Loss: 0.00000000\n",
      "Epoch 450/500, Loss: 0.00000000\n",
      "Epoch 500/500, Loss: 0.00000000\n"
     ]
    }
   ],
   "source": [
    "# тренировка RNN\n",
    "\n",
    "def train():\n",
    "    for epoch in range(EPOCHS):\n",
    "        total_loss = 0\n",
    "        for i in range(0, len(x_train), BATCH_SIZE):\n",
    "            x_batch = x_train[i:i + BATCH_SIZE]\n",
    "            y_batch = y_train[i:i + BATCH_SIZE]\n",
    "\n",
    "            optimizer.zero_grad()\n",
    "            output = model(x_batch)\n",
    "            loss = criterion(output.view(-1, len(DIGITS)), y_batch.view(-1))\n",
    "            loss.backward()\n",
    "            optimizer.step()\n",
    "            total_loss += loss.item()\n",
    "\n",
    "        if (epoch + 1) % 50 == 0:\n",
    "            print(f\"Epoch {epoch + 1}/{EPOCHS}, Loss: {total_loss / len(x_train):.8f}\")\n",
    "\n",
    "\n",
    "train()\n",
    "# сохранение модели\n",
    "torch.save(model.state_dict(), \"gener_gru.pth\")"
   ]
  },
  {
   "cell_type": "code",
   "execution_count": 120,
   "id": "a14001b1-188c-46b0-81f3-87baa813bbde",
   "metadata": {},
   "outputs": [
    {
     "name": "stdout",
     "output_type": "stream",
     "text": [
      "test_sequence:[9, 3, 4, 7, 6, 7, 1, 6, 2, 5, 4, 8, 4, 1, 7, 1, 4] y_expected:[9, 2, 3, 6, 5, 6, 0, 5, 1, 4, 3, 7, 3, 0, 6, 0, 3] predicted_indices:[9, 2, 3, 6, 5, 6, 0, 5, 1, 4, 3, 7, 3, 0, 6, 0, 3]\n",
      "Процент неверных предсказаний GRU: 0.00%\n"
     ]
    }
   ],
   "source": [
    "# тестирование GRU\n",
    "model.eval()\n",
    "\n",
    "incorrect_predictions = 0\n",
    "total_predictions = 0\n",
    "\n",
    "for i in range(10000):\n",
    "    test_sequence = [random.choice(DIGITS) for _ in range(random.randint(SEQ_LENGTH, SEQ_LENGTH * 2))]\n",
    "    y_expected = compute_y(test_sequence)\n",
    "    x_test = sequence_to_tensor(test_sequence).unsqueeze(0)\n",
    "    output = model(x_test)\n",
    "    predicted_indices = output.argmax(dim=2).squeeze().tolist()\n",
    "    if y_expected != predicted_indices:\n",
    "        incorrect_predictions += 1\n",
    "    total_predictions += 1\n",
    "    if i==0:\n",
    "        print(f\"test_sequence:{test_sequence} y_expected:{y_expected} predicted_indices:{predicted_indices}\")\n",
    "\n",
    "# Вычисление процента ошибок\n",
    "error_percentage = (incorrect_predictions / total_predictions) * 100\n",
    "print(f\"Процент неверных предсказаний GRU: {error_percentage:.2f}%\")"
   ]
  },
  {
   "cell_type": "code",
   "execution_count": 131,
   "id": "20aa603d-329b-4b5b-abcd-d94ad4f8fa00",
   "metadata": {},
   "outputs": [
    {
     "name": "stdout",
     "output_type": "stream",
     "text": [
      "{'predicted': [9, 2, 3, 6, 5, 6, 0, 5, 1, 4, 3, 7, 3, 0, 6, 0, 3]}\n"
     ]
    }
   ],
   "source": [
    "#залитая моделька с эндпоинтом\n",
    "import requests\n",
    "\n",
    "url = \"http://45.152.115.10:5000/predict_sequence\"\n",
    "data = {\"sequence\": [9, 3, 4, 7, 6, 7, 1, 6, 2, 5, 4, 8, 4, 1, 7, 1, 4]}\n",
    "response = requests.post(url, json=data)\n",
    "\n",
    "print(response.json())"
   ]
  },
  {
   "cell_type": "markdown",
   "id": "04e0c931-f7f6-475c-b665-3ee834e0d9f2",
   "metadata": {},
   "source": [
    "3. \n",
    "Решить задачу машинного перевода выбрав свой язык:\n",
    "Формируем датасет с исходного языка на целевой (код прописать в классе)\n",
    "Строим архитектуру нейронной сети \n",
    "Обучаем \n",
    "Проверить качество с помощью метрики BLEU\n",
    "2 балла за правильно выполненное задание."
   ]
  },
  {
   "cell_type": "code",
   "execution_count": null,
   "id": "98a1c6cb-9cf1-4283-8532-783846199ffb",
   "metadata": {},
   "outputs": [],
   "source": [
    "в другом блокноте"
   ]
  }
 ],
 "metadata": {
  "kernelspec": {
   "display_name": "Python 3 (ipykernel)",
   "language": "python",
   "name": "python3"
  },
  "language_info": {
   "codemirror_mode": {
    "name": "ipython",
    "version": 3
   },
   "file_extension": ".py",
   "mimetype": "text/x-python",
   "name": "python",
   "nbconvert_exporter": "python",
   "pygments_lexer": "ipython3",
   "version": "3.12.7"
  }
 },
 "nbformat": 4,
 "nbformat_minor": 5
}
